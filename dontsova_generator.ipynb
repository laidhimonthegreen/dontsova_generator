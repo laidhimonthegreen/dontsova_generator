{
 "cells": [
  {
   "cell_type": "code",
   "execution_count": 1,
   "metadata": {},
   "outputs": [],
   "source": [
    "import re\n",
    "from bs4 import BeautifulSoup\n",
    "from gensim.models import KeyedVectors, Word2Vec  \n",
    "\n",
    "import pymorphy2\n",
    "morph = pymorphy2.MorphAnalyzer()"
   ]
  },
  {
   "cell_type": "code",
   "execution_count": 2,
   "metadata": {},
   "outputs": [],
   "source": [
    "RUSSIAN = re.compile(r\"[А-ЯЁа-яё \\-]+\")"
   ]
  },
  {
   "cell_type": "code",
   "execution_count": 3,
   "metadata": {},
   "outputs": [],
   "source": [
    "vectors = KeyedVectors.load_word2vec_format(\"./skipgram_vec.gz\")"
   ]
  },
  {
   "cell_type": "code",
   "execution_count": 4,
   "metadata": {},
   "outputs": [],
   "source": [
    "# загружаем список фразеологизмов, собираем подходящие, записываем"
   ]
  },
  {
   "cell_type": "code",
   "execution_count": 5,
   "metadata": {},
   "outputs": [],
   "source": [
    "phrases_page = \"\"\n",
    "with open(\"./rus_phrases.html\") as f:\n",
    "    for line in f.readlines():\n",
    "        phrases_page += line + \"\\n\""
   ]
  },
  {
   "cell_type": "code",
   "execution_count": 6,
   "metadata": {},
   "outputs": [],
   "source": [
    "soup = BeautifulSoup(phrases_page)"
   ]
  },
  {
   "cell_type": "code",
   "execution_count": 7,
   "metadata": {},
   "outputs": [],
   "source": [
    "found_parts = soup.find_all(\"span\", class_ = \"html-attribute-value\")"
   ]
  },
  {
   "cell_type": "code",
   "execution_count": 8,
   "metadata": {},
   "outputs": [],
   "source": [
    "phrases = []\n",
    "for part in found_parts:\n",
    "    part = part.get_text().replace(\"(страница не существует)\", \"\")\n",
    "    if re.fullmatch(RUSSIAN, part.strip()):\n",
    "        if len(part.split()) in range(2,4):\n",
    "            phrases.append(part)"
   ]
  },
  {
   "cell_type": "code",
   "execution_count": 9,
   "metadata": {},
   "outputs": [
    {
     "data": {
      "text/plain": [
       "904"
      ]
     },
     "execution_count": 9,
     "metadata": {},
     "output_type": "execute_result"
    }
   ],
   "source": [
    "len(phrases)"
   ]
  },
  {
   "cell_type": "code",
   "execution_count": 10,
   "metadata": {},
   "outputs": [],
   "source": [
    "# предобработка и собственно генерация названия"
   ]
  },
  {
   "cell_type": "code",
   "execution_count": 11,
   "metadata": {},
   "outputs": [],
   "source": [
    "def is_noun_nominative(word):\n",
    "    if (\"NOUN\" in morph.parse(word)[0].tag) and (morph.parse(word)[0].normal_form == word):\n",
    "        return True\n",
    "    return"
   ]
  },
  {
   "cell_type": "code",
   "execution_count": 12,
   "metadata": {},
   "outputs": [],
   "source": [
    "def get_gender(word): \n",
    "    p = morph.parse(word)[0]\n",
    "    return p.tag.gender"
   ]
  },
  {
   "cell_type": "code",
   "execution_count": 13,
   "metadata": {},
   "outputs": [],
   "source": [
    "def replace_word(noun):\n",
    "    closest_phrase = \"синий мопс счастья\" # это всамделишное название книги Донцовой\n",
    "    new_phrases = [x.split() for x in phrases]\n",
    "    closest_distance = 0\n",
    "    closest_word = \"PAD\" \n",
    "    for i, phrase in enumerate(new_phrases):\n",
    "        for word in phrase:\n",
    "            if is_noun_nominative(word): \n",
    "                try:\n",
    "                    distance = vectors.similarity(word+\"_NOUN\", noun+\"_NOUN\")\n",
    "                    if (distance > closest_distance) and word != noun and \\\n",
    "                    get_gender(word) == get_gender(noun): \n",
    "                        closest_phrase = phrases[i]\n",
    "                        closest_word = word\n",
    "                        closest_distance = distance \n",
    "                except KeyError:\n",
    "                    continue  \n",
    "                    \n",
    "    return closest_phrase.replace(closest_word, noun).strip()"
   ]
  },
  {
   "cell_type": "code",
   "execution_count": 14,
   "metadata": {},
   "outputs": [
    {
     "data": {
      "text/plain": [
       "'отставной козы продюсер'"
      ]
     },
     "execution_count": 14,
     "metadata": {},
     "output_type": "execute_result"
    }
   ],
   "source": [
    "replace_word(\"продюсер\")"
   ]
  },
  {
   "cell_type": "code",
   "execution_count": 15,
   "metadata": {},
   "outputs": [
    {
     "data": {
      "text/plain": [
       "'дойная лама'"
      ]
     },
     "execution_count": 15,
     "metadata": {},
     "output_type": "execute_result"
    }
   ],
   "source": [
    "replace_word(\"лама\")"
   ]
  },
  {
   "cell_type": "code",
   "execution_count": 16,
   "metadata": {},
   "outputs": [
    {
     "data": {
      "text/plain": [
       "'кнут и сникерс'"
      ]
     },
     "execution_count": 16,
     "metadata": {},
     "output_type": "execute_result"
    }
   ],
   "source": [
    "replace_word(\"сникерс\")"
   ]
  },
  {
   "cell_type": "code",
   "execution_count": 17,
   "metadata": {},
   "outputs": [
    {
     "data": {
      "text/plain": [
       "'телепузик на побегушках'"
      ]
     },
     "execution_count": 17,
     "metadata": {},
     "output_type": "execute_result"
    }
   ],
   "source": [
    "replace_word(\"телепузик\")"
   ]
  },
  {
   "cell_type": "code",
   "execution_count": 18,
   "metadata": {},
   "outputs": [
    {
     "data": {
      "text/plain": [
       "'газетная мартышка'"
      ]
     },
     "execution_count": 18,
     "metadata": {},
     "output_type": "execute_result"
    }
   ],
   "source": [
    "replace_word(\"мартышка\")"
   ]
  }
 ],
 "metadata": {
  "kernelspec": {
   "display_name": "Python 3",
   "language": "python",
   "name": "python3"
  },
  "language_info": {
   "codemirror_mode": {
    "name": "ipython",
    "version": 3
   },
   "file_extension": ".py",
   "mimetype": "text/x-python",
   "name": "python",
   "nbconvert_exporter": "python",
   "pygments_lexer": "ipython3",
   "version": "3.7.3"
  }
 },
 "nbformat": 4,
 "nbformat_minor": 2
}
