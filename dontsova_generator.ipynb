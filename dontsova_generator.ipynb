{
 "cells": [
  {
   "cell_type": "code",
   "execution_count": 1,
   "metadata": {},
   "outputs": [],
   "source": [
    "### Делаем названия книг Дарьи Донцовой"
   ]
  },
  {
   "cell_type": "code",
   "execution_count": 2,
   "metadata": {},
   "outputs": [],
   "source": [
    "import re\n",
    "from bs4 import BeautifulSoup\n",
    "from gensim.models import KeyedVectors, Word2Vec  \n",
    "\n",
    "import pymorphy2\n",
    "morph = pymorphy2.MorphAnalyzer()"
   ]
  },
  {
   "cell_type": "code",
   "execution_count": 3,
   "metadata": {},
   "outputs": [],
   "source": [
    "RUSSIAN = re.compile(r\"[А-ЯЁа-яё \\-]+\")"
   ]
  },
  {
   "cell_type": "code",
   "execution_count": 4,
   "metadata": {},
   "outputs": [],
   "source": [
    "# эмбеддинги\n",
    "vectors = KeyedVectors.load_word2vec_format(\"./skipgram_vec.gz\")"
   ]
  },
  {
   "cell_type": "code",
   "execution_count": 5,
   "metadata": {},
   "outputs": [],
   "source": [
    "# загружаем список фразеологизмов, собираем подходящие, записываем"
   ]
  },
  {
   "cell_type": "code",
   "execution_count": 6,
   "metadata": {},
   "outputs": [],
   "source": [
    "phrases_page = \"\"\n",
    "with open(\"./rus_phrases.html\") as f:\n",
    "    for line in f.readlines():\n",
    "        phrases_page += line + \"\\n\""
   ]
  },
  {
   "cell_type": "code",
   "execution_count": 7,
   "metadata": {},
   "outputs": [],
   "source": [
    "soup = BeautifulSoup(phrases_page)"
   ]
  },
  {
   "cell_type": "code",
   "execution_count": 8,
   "metadata": {},
   "outputs": [],
   "source": [
    "found_parts = soup.find_all(\"span\", class_ = \"html-attribute-value\")"
   ]
  },
  {
   "cell_type": "code",
   "execution_count": 9,
   "metadata": {},
   "outputs": [],
   "source": [
    "phrases = []\n",
    "for part in found_parts:\n",
    "    part = part.get_text().replace(\"(страница не существует)\", \"\")\n",
    "    if re.fullmatch(RUSSIAN, part.strip()):\n",
    "        if len(part.split()) in range(3,5):\n",
    "            phrases.append(part)"
   ]
  },
  {
   "cell_type": "code",
   "execution_count": 10,
   "metadata": {},
   "outputs": [
    {
     "data": {
      "text/plain": [
       "631"
      ]
     },
     "execution_count": 10,
     "metadata": {},
     "output_type": "execute_result"
    }
   ],
   "source": [
    "len(phrases)"
   ]
  },
  {
   "cell_type": "code",
   "execution_count": 11,
   "metadata": {},
   "outputs": [],
   "source": [
    "# достаём названия книг на таких же условиях"
   ]
  },
  {
   "cell_type": "code",
   "execution_count": 12,
   "metadata": {
    "scrolled": true
   },
   "outputs": [],
   "source": [
    "with open(\"rus_books\", \"r\") as f:\n",
    "    for line in f.readlines():\n",
    "        if \"-\" in line:\n",
    "            part = line.split(\"-\")[-1].strip()\n",
    "            if len(part.split()) in range(3,5):\n",
    "                phrases.append(part.lower())"
   ]
  },
  {
   "cell_type": "code",
   "execution_count": 13,
   "metadata": {},
   "outputs": [
    {
     "data": {
      "text/plain": [
       "661"
      ]
     },
     "execution_count": 13,
     "metadata": {},
     "output_type": "execute_result"
    }
   ],
   "source": [
    "len(phrases)"
   ]
  },
  {
   "cell_type": "code",
   "execution_count": 14,
   "metadata": {},
   "outputs": [],
   "source": [
    "# убираем из фраз глагольные конструкции, чтобы "
   ]
  },
  {
   "cell_type": "code",
   "execution_count": 15,
   "metadata": {},
   "outputs": [],
   "source": [
    "phrases_without_infs = []\n",
    "\n",
    "for phrase in phrases:\n",
    "    words = phrase.split()\n",
    "    counter = 0\n",
    "    for word in words:\n",
    "        if \"INFN\" in morph.parse(word)[0].tag or word == \"как\":\n",
    "            counter +=1\n",
    "    if not counter:\n",
    "        phrases_without_infs.append(phrase)"
   ]
  },
  {
   "cell_type": "code",
   "execution_count": 16,
   "metadata": {},
   "outputs": [
    {
     "data": {
      "text/plain": [
       "326"
      ]
     },
     "execution_count": 16,
     "metadata": {},
     "output_type": "execute_result"
    }
   ],
   "source": [
    "len(phrases_without_infs)"
   ]
  },
  {
   "cell_type": "code",
   "execution_count": 17,
   "metadata": {},
   "outputs": [],
   "source": [
    "# предобработка и собственно генерация названия"
   ]
  },
  {
   "cell_type": "code",
   "execution_count": 18,
   "metadata": {},
   "outputs": [],
   "source": [
    "def is_noun_nominative(word: str) -> bool:\n",
    "    \"\"\"\n",
    "    проверяем, существительное ли перед нами\n",
    "    \"\"\"\n",
    "    if (\"NOUN\" in morph.parse(word)[0].tag) and (morph.parse(word)[0].normal_form == word):\n",
    "        return True\n",
    "    return False"
   ]
  },
  {
   "cell_type": "code",
   "execution_count": 19,
   "metadata": {},
   "outputs": [],
   "source": [
    "def get_gender(word: str): \n",
    "    \"\"\"\n",
    "    определяем род\n",
    "    \"\"\"\n",
    "    p = morph.parse(word)[0]\n",
    "    return p.tag.gender"
   ]
  },
  {
   "cell_type": "code",
   "execution_count": 20,
   "metadata": {},
   "outputs": [],
   "source": [
    "def get_dontsova_booktitle(noun):\n",
    "    \"\"\"\n",
    "    поехали\n",
    "    \"\"\"\n",
    "    closest_phrase = \"такого слова не нашлось в корпусе :(\"  \n",
    "    new_phrases = [x.split() for x in phrases_without_infs]\n",
    "    closest_distance = 0\n",
    "    closest_word = \"PAD\" \n",
    "    for i, phrase in enumerate(new_phrases):\n",
    "        for word in phrase:\n",
    "            if is_noun_nominative(word): \n",
    "                try:\n",
    "                    distance = vectors.similarity(word+\"_NOUN\", noun+\"_NOUN\")\n",
    "                    if (distance > closest_distance) and word != noun and \\\n",
    "                    get_gender(word) == get_gender(noun): \n",
    "                        closest_phrase = phrases_without_infs[i]\n",
    "                        closest_word = word\n",
    "                        closest_distance = distance \n",
    "                except KeyError:\n",
    "                    continue  \n",
    "                    \n",
    "    return closest_phrase.replace(closest_word, noun).strip()"
   ]
  },
  {
   "cell_type": "code",
   "execution_count": 21,
   "metadata": {},
   "outputs": [
    {
     "data": {
      "text/plain": [
       "'отставной козы продюсер'"
      ]
     },
     "execution_count": 21,
     "metadata": {},
     "output_type": "execute_result"
    }
   ],
   "source": [
    "get_dontsova_booktitle(\"продюсер\")"
   ]
  },
  {
   "cell_type": "code",
   "execution_count": 22,
   "metadata": {},
   "outputs": [
    {
     "data": {
      "text/plain": [
       "'кнут и сникерс'"
      ]
     },
     "execution_count": 22,
     "metadata": {},
     "output_type": "execute_result"
    }
   ],
   "source": [
    "get_dontsova_booktitle(\"сникерс\")"
   ]
  },
  {
   "cell_type": "code",
   "execution_count": 23,
   "metadata": {},
   "outputs": [
    {
     "data": {
      "text/plain": [
       "'такого слова не нашлось в корпусе :('"
      ]
     },
     "execution_count": 23,
     "metadata": {},
     "output_type": "execute_result"
    }
   ],
   "source": [
    "get_dontsova_booktitle(\"чикибамбони\")"
   ]
  },
  {
   "cell_type": "code",
   "execution_count": 24,
   "metadata": {},
   "outputs": [
    {
     "data": {
      "text/plain": [
       "'телепузик на побегушках'"
      ]
     },
     "execution_count": 24,
     "metadata": {},
     "output_type": "execute_result"
    }
   ],
   "source": [
    "get_dontsova_booktitle(\"телепузик\")"
   ]
  },
  {
   "cell_type": "code",
   "execution_count": 25,
   "metadata": {},
   "outputs": [
    {
     "data": {
      "text/plain": [
       "'где мартышка зарыта'"
      ]
     },
     "execution_count": 25,
     "metadata": {},
     "output_type": "execute_result"
    }
   ],
   "source": [
    "get_dontsova_booktitle(\"мартышка\")"
   ]
  },
  {
   "cell_type": "code",
   "execution_count": 26,
   "metadata": {},
   "outputs": [
    {
     "data": {
      "text/plain": [
       "'дискета всё стерпит'"
      ]
     },
     "execution_count": 26,
     "metadata": {},
     "output_type": "execute_result"
    }
   ],
   "source": [
    "get_dontsova_booktitle(\"дискета\")"
   ]
  },
  {
   "cell_type": "code",
   "execution_count": 27,
   "metadata": {},
   "outputs": [],
   "source": [
    "### классные ошибки"
   ]
  },
  {
   "cell_type": "code",
   "execution_count": 28,
   "metadata": {},
   "outputs": [
    {
     "data": {
      "text/plain": [
       "'с лёгким ледокол'"
      ]
     },
     "execution_count": 28,
     "metadata": {},
     "output_type": "execute_result"
    }
   ],
   "source": [
    "get_dontsova_booktitle(\"ледокол\")"
   ]
  }
 ],
 "metadata": {
  "kernelspec": {
   "display_name": "Python 3",
   "language": "python",
   "name": "python3"
  },
  "language_info": {
   "codemirror_mode": {
    "name": "ipython",
    "version": 3
   },
   "file_extension": ".py",
   "mimetype": "text/x-python",
   "name": "python",
   "nbconvert_exporter": "python",
   "pygments_lexer": "ipython3",
   "version": "3.7.3"
  }
 },
 "nbformat": 4,
 "nbformat_minor": 2
}
